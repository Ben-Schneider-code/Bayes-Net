{
 "cells": [
  {
   "cell_type": "code",
   "execution_count": 2,
   "id": "281c765a",
   "metadata": {},
   "outputs": [],
   "source": [
    "import pandas as pd"
   ]
  },
  {
   "cell_type": "code",
   "execution_count": 50,
   "id": "ca26f9f5",
   "metadata": {},
   "outputs": [],
   "source": [
    "factorList = []\n",
    "\n",
    "\n",
    "# def productFactor(fact1, fact2):\n",
    "    \n",
    "\n",
    "class factor:\n",
    "    def __init__(self, path, factorList):\n",
    "        df = pd.read_csv(path)\n",
    "        self.parentFactors = []\n",
    "        self.values = df[df.columns[-1]]\n",
    "        self.truthTable = df.drop(df.columns[-1],axis=1)\n",
    "        \n",
    "        parentName = list(self.truthTable.columns.values)\n",
    "        parentName.pop(0)\n",
    "        \n",
    "        for i in parentName:\n",
    "            for j in factorList:\n",
    "                if i == list(j.truthTable.columns.values).pop(0):\n",
    "                    self.parentFactors.append(j)\n",
    "     \n",
    "    def myJoint:\n",
    "        #base case\n",
    "        returnJoint = this\n",
    "        \n",
    "        #recursive case\n",
    "        if len(self.parentFactors) != 0:\n",
    "            parentJoints = getParentJoints(this)\n",
    "            for j in parentJoints:\n",
    "                #join them with me via products\n",
    "                returnJoint = productFactor(returnJoint, j)\n",
    "                \n",
    "                #If the top variable to be elimed is in your joint, get rid of that variable via elimination\n",
    "                #this would happen here\n",
    "                \n",
    "        return returnJoint\n",
    "    \n",
    "    def getParentJoints(f):\n",
    "        # call myjoint on all the parents collect as a list and return it\n",
    "        parentJoints = []\n",
    "        for parents in f.parentFactors:\n",
    "            parentJoints.add(f.myJoint())\n",
    "        \n",
    "        return parentJoints\n",
    "    \n",
    "    \n",
    "#    def product(other):\n",
    "#        df = this.truthTable.merge(other.truthTable)\n",
    "#        value = []\n",
    "#        for index, row in df.iterrows()\n",
    "\n",
    "factorList.append(factor(\"./R.txt\",factorList))\n",
    "factorList.append(factor(\"./T.txt\",factorList))     \n",
    "factorList.append(factor(\"./L.txt\",factorList))\n"
   ]
  },
  {
   "cell_type": "code",
   "execution_count": 52,
   "id": "1f9cd774",
   "metadata": {
    "scrolled": true
   },
   "outputs": [
    {
     "data": {
      "text/plain": [
       "0    0.8\n",
       "1    0.2\n",
       "2    0.1\n",
       "3    0.9\n",
       "Name: value, dtype: float64"
      ]
     },
     "execution_count": 52,
     "metadata": {},
     "output_type": "execute_result"
    }
   ],
   "source": [
    "factorList[2].parentFactors[0].values"
   ]
  },
  {
   "cell_type": "code",
   "execution_count": 3,
   "id": "900897e4",
   "metadata": {},
   "outputs": [],
   "source": [
    "factorList = []\n",
    "\n",
    "\n",
    "def productFactor(fact1, fact2):\n",
    "    \n",
    "    \n",
    "    \n",
    "\n",
    "class factor:\n",
    "    def __init__(self, path, factorList):\n",
    "        df = pd.read_csv(path)\n",
    "     \n",
    "factorList.append(factor(\"./R.txt\",factorList))\n",
    "factorList.append(factor(\"./T.txt\",factorList))     \n",
    "factorList.append(factor(\"./L.txt\",factorList))"
   ]
  },
  {
   "cell_type": "code",
   "execution_count": null,
   "id": "cfc05d1a",
   "metadata": {},
   "outputs": [],
   "source": []
  }
 ],
 "metadata": {
  "kernelspec": {
   "display_name": "Python 3 (ipykernel)",
   "language": "python",
   "name": "python3"
  },
  "language_info": {
   "codemirror_mode": {
    "name": "ipython",
    "version": 3
   },
   "file_extension": ".py",
   "mimetype": "text/x-python",
   "name": "python",
   "nbconvert_exporter": "python",
   "pygments_lexer": "ipython3",
   "version": "3.10.1"
  }
 },
 "nbformat": 4,
 "nbformat_minor": 5
}
