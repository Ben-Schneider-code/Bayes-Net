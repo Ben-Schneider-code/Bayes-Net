{
 "cells": [
  {
   "cell_type": "code",
   "execution_count": 64,
   "id": "4aabc00f",
   "metadata": {},
   "outputs": [],
   "source": [
    "import pandas as pd\n",
    "\n",
    "orderedListOfHiddenVariables = ['R', 'T', 'L']\n",
    "\n",
    "\n",
    "\n",
    "class factor:\n",
    "    def __init__(self, path=None, table=None):\n",
    "        if path:\n",
    "            self.table = pd.read_csv(path)\n",
    "        else:\n",
    "            self.table=table\n",
    "       \n",
    "    def __str__(self):\n",
    "        return self.table.to_string()\n",
    "    \n",
    "    def sumOfTable(self):\n",
    "        return sum(self.table['value'])\n",
    "    \n",
    "        \n",
    "def productFactor(fact1, fact2):\n",
    "    fact1 = fact1.table.rename(columns={'value': 'factor_left'}, inplace=False)\n",
    "    fact2 = fact2.table.rename(columns={'value': 'factor_right'}, inplace=False)\n",
    "    new_factor = fact1.merge(fact2)\n",
    "    new_values = []\n",
    "    \n",
    "    for index, row in new_factor.iterrows():\n",
    "        new_values.append(row['factor_left']*row['factor_right'])\n",
    "\n",
    "    new_factor['value'] = new_values\n",
    "    new_factor=new_factor.drop(columns=['factor_left','factor_right'])\n",
    "\n",
    "    return factor(table=new_factor)\n",
    "\n",
    "    "
   ]
  },
  {
   "cell_type": "code",
   "execution_count": 65,
   "id": "49272424",
   "metadata": {},
   "outputs": [
    {
     "name": "stdout",
     "output_type": "stream",
     "text": [
      "   R  value\n",
      "0  T    0.1\n",
      "1  F    0.9\n",
      "\n",
      "\n",
      "   T  R  value\n",
      "0  T  T    0.8\n",
      "1  F  T    0.2\n",
      "2  T  F    0.1\n",
      "3  F  F    0.9\n",
      "\n",
      "\n",
      "Done\n",
      "   L  T  value\n",
      "0  T  T    0.3\n",
      "1  F  T    0.7\n",
      "2  T  F    0.1\n",
      "3  F  F    0.9\n",
      "\n",
      "\n",
      "   R  T  value\n",
      "0  T  T   0.08\n",
      "1  T  F   0.02\n",
      "2  F  T   0.09\n",
      "3  F  F   0.81\n",
      "\n",
      "\n",
      "Done\n",
      "   L  T  R  value\n",
      "0  T  T  T  0.024\n",
      "1  T  T  F  0.027\n",
      "2  F  T  T  0.056\n",
      "3  F  T  F  0.063\n",
      "4  T  F  T  0.002\n",
      "5  T  F  F  0.081\n",
      "6  F  F  T  0.018\n",
      "7  F  F  F  0.729\n",
      "\n",
      "\n",
      "Done\n",
      "1.0\n"
     ]
    }
   ],
   "source": [
    "factorList = []\n",
    "factorList.append(factor(path=\"./R.txt\"))\n",
    "factorList.append(factor(path=\"./T.txt\"))     \n",
    "factorList.append(factor(path=\"./L.txt\"))\n",
    "\n",
    "def containsVariable(var,factor):\n",
    "    return var in factor.table.columns\n",
    "    \n",
    "def printFactorList(l):\n",
    "    for i in l:\n",
    "        print(i.table.to_string())\n",
    "        print(\"\\n\")\n",
    "    print('Done')\n",
    "    \n",
    "def joins(factorList,orderedListOfHiddenVariables):\n",
    "    for var in orderedListOfHiddenVariables:\n",
    "        \n",
    "        #partition our factors\n",
    "        joinList = [x for x in factorList if containsVariable(var,x)]\n",
    "        factorList = [x for x in factorList if not containsVariable(var,x)]\n",
    "        \n",
    "    \n",
    "        printFactorList(joinList)\n",
    "        \n",
    "        currFactor = joinList.pop(0)\n",
    "        \n",
    "        while(len(joinList) > 0):\n",
    "            currFactor = productFactor(currFactor, joinList.pop(0))\n",
    "            \n",
    "        #sum out here if var is a hidden variable, not in loop    \n",
    "        factorList.append(currFactor)\n",
    "        \n",
    "    return currFactor\n",
    "     \n",
    "df = joins(factorList,orderedListOfHiddenVariables)\n",
    "print(df.sumOfTable())"
   ]
  },
  {
   "cell_type": "code",
   "execution_count": 87,
   "id": "125dab38",
   "metadata": {
    "scrolled": true
   },
   "outputs": [
    {
     "name": "stdout",
     "output_type": "stream",
     "text": [
      "[<__main__.factor object at 0x0000013CE8650FA0>, <__main__.factor object at 0x0000013CE84D3580>, <__main__.factor object at 0x0000013CE86DE350>]\n"
     ]
    }
   ],
   "source": []
  }
 ],
 "metadata": {
  "kernelspec": {
   "display_name": "Python 3 (ipykernel)",
   "language": "python",
   "name": "python3"
  },
  "language_info": {
   "codemirror_mode": {
    "name": "ipython",
    "version": 3
   },
   "file_extension": ".py",
   "mimetype": "text/x-python",
   "name": "python",
   "nbconvert_exporter": "python",
   "pygments_lexer": "ipython3",
   "version": "3.10.1"
  }
 },
 "nbformat": 4,
 "nbformat_minor": 5
}
