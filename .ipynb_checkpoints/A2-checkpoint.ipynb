{
 "cells": [
  {
   "cell_type": "code",
   "execution_count": 1,
   "id": "7dc5c1f9",
   "metadata": {},
   "outputs": [],
   "source": [
    "import pandas as pd"
   ]
  },
  {
   "cell_type": "code",
   "execution_count": 5,
   "id": "35a7603d",
   "metadata": {},
   "outputs": [
    {
     "ename": "SyntaxError",
     "evalue": "invalid syntax (636749452.py, line 5)",
     "output_type": "error",
     "traceback": [
      "\u001b[1;36m  Cell \u001b[1;32mIn [5], line 5\u001b[1;36m\u001b[0m\n\u001b[1;33m    __init__(path, factorList):\u001b[0m\n\u001b[1;37m                              ^\u001b[0m\n\u001b[1;31mSyntaxError\u001b[0m\u001b[1;31m:\u001b[0m invalid syntax\n"
     ]
    }
   ],
   "source": [
    "f1 = pd.read_csv(\"./f1.txt\")\n",
    "f2 = pd.read_csv(\"./f2.txt\")\n",
    "\n",
    "class factor:\n",
    "    __init__(path, factorList):\n",
    "        df = pd.read_csv(path)\n",
    "        self.parentFactors = []\n",
    "        self.values = df[:,-1]\n",
    "        self.truthTable = df.drop(df.columns[-1],axis=1)\n",
    "        print(self.values)\n",
    "        print(slef.truthTable)\n",
    "        \n",
    "f1 = factor(\"./f1.txt\", [])\n",
    "        \n",
    "        \n",
    "        "
   ]
  },
  {
   "cell_type": "code",
   "execution_count": 4,
   "id": "6afcf443",
   "metadata": {},
   "outputs": [
    {
     "name": "stdout",
     "output_type": "stream",
     "text": [
      "  f1  value\n",
      "0  T    0.4\n",
      "1  F    0.6\n",
      "  f2 f1  value\n",
      "0  T  F    0.7\n",
      "1  T  T    0.6\n",
      "2  F  T    0.6\n",
      "3  F  F    0.3\n"
     ]
    }
   ],
   "source": [
    "print(f1)\n",
    "print(f2)"
   ]
  }
 ],
 "metadata": {
  "kernelspec": {
   "display_name": "Python 3 (ipykernel)",
   "language": "python",
   "name": "python3"
  },
  "language_info": {
   "codemirror_mode": {
    "name": "ipython",
    "version": 3
   },
   "file_extension": ".py",
   "mimetype": "text/x-python",
   "name": "python",
   "nbconvert_exporter": "python",
   "pygments_lexer": "ipython3",
   "version": "3.10.1"
  }
 },
 "nbformat": 4,
 "nbformat_minor": 5
}
